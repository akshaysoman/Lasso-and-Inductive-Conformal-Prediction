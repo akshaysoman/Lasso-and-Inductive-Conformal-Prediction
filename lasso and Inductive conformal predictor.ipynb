{
 "cells": [
  {
   "cell_type": "markdown",
   "id": "f8f5105d",
   "metadata": {},
   "source": [
    "# 1)Loading the scikit-learn version of the diabetes dataset"
   ]
  },
  {
   "cell_type": "code",
   "execution_count": 4,
   "id": "550c2049",
   "metadata": {},
   "outputs": [],
   "source": [
    "import numpy as np\n",
    "import math\n",
    "from sklearn.datasets import load_diabetes\n",
    "diabetes = load_diabetes()\n"
   ]
  },
  {
   "cell_type": "markdown",
   "id": "ad48ea08",
   "metadata": {},
   "source": [
    "# 2)Splitting the dataset into the training and test sets"
   ]
  },
  {
   "cell_type": "code",
   "execution_count": 5,
   "id": "b7277572",
   "metadata": {},
   "outputs": [
    {
     "name": "stdout",
     "output_type": "stream",
     "text": [
      ".. _diabetes_dataset:\n",
      "\n",
      "Diabetes dataset\n",
      "----------------\n",
      "\n",
      "Ten baseline variables, age, sex, body mass index, average blood\n",
      "pressure, and six blood serum measurements were obtained for each of n =\n",
      "442 diabetes patients, as well as the response of interest, a\n",
      "quantitative measure of disease progression one year after baseline.\n",
      "\n",
      "**Data Set Characteristics:**\n",
      "\n",
      "  :Number of Instances: 442\n",
      "\n",
      "  :Number of Attributes: First 10 columns are numeric predictive values\n",
      "\n",
      "  :Target: Column 11 is a quantitative measure of disease progression one year after baseline\n",
      "\n",
      "  :Attribute Information:\n",
      "      - age     age in years\n",
      "      - sex\n",
      "      - bmi     body mass index\n",
      "      - bp      average blood pressure\n",
      "      - s1      tc, total serum cholesterol\n",
      "      - s2      ldl, low-density lipoproteins\n",
      "      - s3      hdl, high-density lipoproteins\n",
      "      - s4      tch, total cholesterol / HDL\n",
      "      - s5      ltg, possibly log of serum triglycerides level\n",
      "      - s6      glu, blood sugar level\n",
      "\n",
      "Note: Each of these 10 feature variables have been mean centered and scaled by the standard deviation times `n_samples` (i.e. the sum of squares of each column totals 1).\n",
      "\n",
      "Source URL:\n",
      "https://www4.stat.ncsu.edu/~boos/var.select/diabetes.html\n",
      "\n",
      "For more information see:\n",
      "Bradley Efron, Trevor Hastie, Iain Johnstone and Robert Tibshirani (2004) \"Least Angle Regression,\" Annals of Statistics (with discussion), 407-499.\n",
      "(https://web.stanford.edu/~hastie/Papers/LARS/LeastAngle_2002.pdf)\n"
     ]
    }
   ],
   "source": [
    "from sklearn.model_selection import train_test_split\n",
    "X_train,X_test,y_train,y_test = train_test_split(diabetes['data'],diabetes['target'],random_state=1402)\n",
    "print(diabetes.DESCR)"
   ]
  },
  {
   "cell_type": "markdown",
   "id": "eb0735d8",
   "metadata": {},
   "source": [
    "# 3) Finding the Training and Test R^2 for the Lasso model"
   ]
  },
  {
   "cell_type": "code",
   "execution_count": 6,
   "id": "69eea5ea",
   "metadata": {},
   "outputs": [
    {
     "name": "stdout",
     "output_type": "stream",
     "text": [
      "Training R^2 =  0.35336687649837306\n",
      "Test R^2 =  0.33318547470650794\n",
      "number of features  =  2\n",
      "Features are : [['bmi' 's5']]\n"
     ]
    }
   ],
   "source": [
    "#importing the Lassso Model\n",
    "from sklearn.linear_model import Lasso       \n",
    "#fitting the data to the model\n",
    "a = Lasso().fit(X_train,y_train)\n",
    "\n",
    "train = a.score(X_train,y_train)\n",
    "test = a.score(X_test,y_test)\n",
    "print(\"Training R^2 = \",train) \n",
    "print(\"Test R^2 = \",test)\n",
    "\n",
    "#count of features\n",
    "count = np.sum(a.coef_ != 0)\n",
    "print(\"number of features  = \",count)\n",
    "\n",
    "#name of features\n",
    "index = np.argwhere(a.coef_ != 0)\n",
    "names = np.array(diabetes['feature_names'])[index]\n",
    "print(\"Features are :\",(names.transpose()))"
   ]
  },
  {
   "cell_type": "markdown",
   "id": "225b76b3",
   "metadata": {},
   "source": [
    "# 4) Loading the Orginal Diabetes Dataset"
   ]
  },
  {
   "cell_type": "code",
   "execution_count": 7,
   "id": "ef3ac3fc",
   "metadata": {},
   "outputs": [],
   "source": [
    "d = np.genfromtxt(\"diabetes.data\",delimiter =\"\\t\",skip_header =1)"
   ]
  },
  {
   "cell_type": "markdown",
   "id": "879ebcfb",
   "metadata": {},
   "source": [
    "# 5)Splitting the Dataset"
   ]
  },
  {
   "cell_type": "code",
   "execution_count": 8,
   "id": "8303f496",
   "metadata": {},
   "outputs": [],
   "source": [
    "original_data1 = np.genfromtxt(\"diabetes.data\",delimiter =\"\\t\",usecols = np.arange(d.shape[1]-1),skip_header = 1)\n",
    "original_data2 = np.genfromtxt(\"diabetes.data\",delimiter =\"\\t\",usecols = d.shape[1]-1,dtype ='int' ,skip_header = 1)\n",
    "X_train1,X_test1,y_train1,y_test1 = train_test_split(original_data1,original_data2,random_state = 1402)\n"
   ]
  },
  {
   "cell_type": "markdown",
   "id": "4aec3f60",
   "metadata": {},
   "source": [
    "# 6)Finding the Training and Test R^2 for the Dataset"
   ]
  },
  {
   "cell_type": "code",
   "execution_count": 9,
   "id": "b289cfee",
   "metadata": {},
   "outputs": [
    {
     "name": "stdout",
     "output_type": "stream",
     "text": [
      "Training R^2 = 0.5066402866984465\n",
      "Test R^2 = 0.4910967021200747\n",
      "number of features  =  10\n",
      "Features are : [['age' 'sex' 'bmi' 'bp' 's1' 's2' 's3' 's4' 's5' 's6']]\n"
     ]
    }
   ],
   "source": [
    "a1 = Lasso().fit(X_train1,y_train1)\n",
    "train1 = a1.score(X_train1,y_train1)\n",
    "test1 = a1.score(X_test1,y_test1)\n",
    "print('Training R^2 =',train1)\n",
    "print('Test R^2 =',test1)\n",
    "\n",
    "\n",
    "#finding the number of features\n",
    "count = np.sum(a1.coef_ != 0)\n",
    "print(\"number of features  = \",count)\n",
    "\n",
    "#name of features\n",
    "index = np.argwhere(a1.coef_ != 0)\n",
    "names = np.array(diabetes['feature_names'])[index]\n",
    "print(\"Features are :\",(names.transpose()))\n",
    "\n",
    "\n",
    "\n",
    "\n"
   ]
  },
  {
   "cell_type": "markdown",
   "id": "0d3f5dd0",
   "metadata": {},
   "source": [
    "The Training and Test R^2 values of orginal data is large than that of the scikit Dataset.\n",
    "In Excercise 3 we used only 2 features whereas in Excercise 6 we used all 10 Features,the reason for this is probably due to the normalized data in scikit dataset"
   ]
  },
  {
   "cell_type": "code",
   "execution_count": null,
   "id": "8fa027f0",
   "metadata": {},
   "outputs": [],
   "source": []
  },
  {
   "cell_type": "markdown",
   "id": "f80ce7ac",
   "metadata": {},
   "source": [
    "# 7)Preprocessing the Training and Test sets using StandardScaler"
   ]
  },
  {
   "cell_type": "code",
   "execution_count": 10,
   "id": "c617fe9d",
   "metadata": {},
   "outputs": [],
   "source": [
    "from sklearn.preprocessing import StandardScaler    #importing StandardScaler\n",
    "b = StandardScaler().fit(X_train1)                     \n",
    "transformed_xtrain1 = b.transform(X_train1)          #Transforming the Train and Test Set\n",
    "transformed_xtest1 = b.transform(X_test1)\n",
    "\n"
   ]
  },
  {
   "cell_type": "markdown",
   "id": "f50bcb83",
   "metadata": {},
   "source": [
    "# 8)Finding the Training and Test R^2 for the Preprocessed Dataset"
   ]
  },
  {
   "cell_type": "code",
   "execution_count": 11,
   "id": "9b04258d",
   "metadata": {},
   "outputs": [
    {
     "name": "stdout",
     "output_type": "stream",
     "text": [
      "Training R^2 =  0.5106400004398055\n",
      "Test R^2 =  0.5061630428354778\n",
      "number of features in transformed data =  9\n",
      "Features are : [['sex' 'bmi' 'bp' 's1' 's2' 's3' 's4' 's5' 's6']]\n"
     ]
    }
   ],
   "source": [
    "a2 = Lasso().fit(transformed_xtrain1,y_train1)\n",
    "train2 = a2.score(transformed_xtrain1,y_train1)\n",
    "test2 = a2.score(transformed_xtest1,y_test1)\n",
    "print(\"Training R^2 = \",train2) \n",
    "print(\"Test R^2 = \",test2)\n",
    "\n",
    "#finding the number of features\n",
    "count2 = np.sum(a2.coef_ != 0)\n",
    "print(\"number of features in transformed data = \",count2)\n",
    "\n",
    "#name of features\n",
    "index = np.argwhere(a2.coef_ != 0)\n",
    "names = np.array(diabetes['feature_names'])[index]\n",
    "print(\"Features are :\",(names.transpose()))\n",
    "\n"
   ]
  },
  {
   "cell_type": "markdown",
   "id": "de316e81",
   "metadata": {},
   "source": [
    "The results of item 8 are closer to item 6 than item 3.it would be because the data from scikit would be normalized differently or irregularly.Another assumption would be the normalization techiniques used in both datasets are entirely different.Data snooping in item 3 is another possibility."
   ]
  },
  {
   "cell_type": "markdown",
   "id": "f1540486",
   "metadata": {},
   "source": [
    "# 9)Finding the Test R^2 for the preprocessed Dataset with different Alphas"
   ]
  },
  {
   "cell_type": "code",
   "execution_count": 12,
   "id": "8718b072",
   "metadata": {},
   "outputs": [
    {
     "name": "stdout",
     "output_type": "stream",
     "text": [
      "Alpha =  0.002 : Test R^2 =  0.5061781500630911 \t Features  =  10\n",
      "Alpha =  0.02 : Test R^2 =  0.5053452442769313 \t Features  =  10\n",
      "Alpha =  0.2 : Test R^2 =  0.5042386288174174 \t Features  =  9\n",
      "Alpha =  2.0 : Test R^2 =  0.503453694444169 \t Features  =  7\n",
      "Alpha =  20 : Test R^2 =  0.34491410045359483 \t Features  =  2\n"
     ]
    }
   ],
   "source": [
    "\n",
    "alp=[.002,.02,.2,2.00,20]\n",
    "test = []\n",
    "features = []\n",
    "for a in alp:\n",
    "    lasso = Lasso(a).fit(transformed_xtrain1,y_train1)\n",
    "    test.append(lasso.score(transformed_xtest1,y_test1))\n",
    "    features.append(np.sum(lasso.coef_ != 0))\n",
    "for i in range(len(alp)):\n",
    "    print(\"Alpha = \",alp[i],\": Test R^2 = \",test[i],\"\\t Features  = \",features[i])\n",
    "    "
   ]
  },
  {
   "cell_type": "markdown",
   "id": "b8ca2c53",
   "metadata": {},
   "source": [
    "b) plotting the test R2 vs the number of features used"
   ]
  },
  {
   "cell_type": "code",
   "execution_count": 13,
   "id": "0ba5cea5",
   "metadata": {},
   "outputs": [
    {
     "data": {
      "text/plain": [
       "<matplotlib.legend.Legend at 0x230956e3b20>"
      ]
     },
     "execution_count": 13,
     "metadata": {},
     "output_type": "execute_result"
    },
    {
     "data": {
      "image/png": "[encoded data removed]",
      "text/plain": [
       "<Figure size 432x288 with 1 Axes>"
      ]
     },
     "metadata": {
      "needs_background": "light"
     },
     "output_type": "display_data"
    }
   ],
   "source": [
    "import matplotlib.pyplot as plt\n",
    "plt.scatter(test[0], features[0], label= \"alpha = .002\", color= \"green\",marker= \"*\", s=30)\n",
    "plt.scatter(test[1], features[1], label= \"alpha = .02\", color= \"red\",marker= \"*\", s=30)\n",
    "plt.scatter(test[2], features[2], label= \"alpha = .2\", color= \"yellow\",marker= \"*\", s=30)\n",
    "plt.scatter(test[3], features[3], label= \"alpha = 2\", color= \"violet\",marker= \"*\", s=30)\n",
    "plt.scatter(test[4], features[4], label= \"alpha = 20\", color= \"blue\",marker= \"*\", s=30)\n",
    "plt.xlabel('test R^2')\n",
    "plt.ylabel('no.of features')\n",
    "plt.legend()"
   ]
  },
  {
   "cell_type": "markdown",
   "id": "1f83549e",
   "metadata": {},
   "source": []
  },
  {
   "cell_type": "markdown",
   "id": "dbbebb30",
   "metadata": {},
   "source": [
    "# 10)Using Cross Validation Finding the Best Regularization parameter"
   ]
  },
  {
   "cell_type": "code",
   "execution_count": 30,
   "id": "7a552261",
   "metadata": {},
   "outputs": [
    {
     "name": "stdout",
     "output_type": "stream",
     "text": [
      "Best parameters  alpha : 0.2\n"
     ]
    }
   ],
   "source": [
    "from sklearn.model_selection import cross_val_score  #importing cross validation\n",
    "best_score = 0\n",
    "for alphas in [.002,.02,.2,2,20]:\n",
    "        a = Lasso(alphas).fit(transformed_xtrain1,y_train1)\n",
    "        scores = cross_val_score(a,transformed_xtrain1,y_train1, cv=5)    \n",
    "        score = np.mean(scores)\n",
    "        if score > best_score:\n",
    "            best_score = score\n",
    "            best_alpha = alphas\n",
    "print(\"Best parameters  alpha :\",  best_alpha)"
   ]
  },
  {
   "cell_type": "markdown",
   "id": "1fa1f454",
   "metadata": {},
   "source": [
    "b)Finding the Training and Test R^2 using best_alpha"
   ]
  },
  {
   "cell_type": "code",
   "execution_count": 13,
   "id": "d43974cb",
   "metadata": {},
   "outputs": [
    {
     "name": "stdout",
     "output_type": "stream",
     "text": [
      "Best parameter Train score :  0.5132143395460341\n",
      "Best parameter Test score :  0.5042386288174174\n",
      "features used :  2\n"
     ]
    }
   ],
   "source": [
    "a = Lasso(best_alpha).fit(transformed_xtrain1,y_train1)\n",
    "trainscore = a.score( transformed_xtrain1,y_train1)\n",
    "print(\"Best parameter Train score : \",trainscore)\n",
    "testscore = a.score(transformed_xtest1,y_test1)\n",
    "print(\"Best parameter Test score : \",testscore)\n",
    "features = np.sum(lasso.coef_ != 0)\n",
    "print(\"features used : \",features)"
   ]
  },
  {
   "cell_type": "markdown",
   "id": "63071466",
   "metadata": {},
   "source": [
    "# 11)Inductive Conformal Predictor"
   ]
  },
  {
   "cell_type": "markdown",
   "id": "ade9894f",
   "metadata": {},
   "source": [
    "a) Splitting the Data"
   ]
  },
  {
   "cell_type": "code",
   "execution_count": 33,
   "id": "e7498642",
   "metadata": {},
   "outputs": [],
   "source": [
    "#splitting training sets into proper and calibration sets\n",
    "X_prop,X_cal,y_prop,y_cal = train_test_split(X_train1,y_train1,test_size = 99,random_state = 1402)"
   ]
  },
  {
   "cell_type": "markdown",
   "id": "fd1cbe53",
   "metadata": {},
   "source": [
    "11 b) Preprocessing the Data"
   ]
  },
  {
   "cell_type": "code",
   "execution_count": 42,
   "id": "a92a98a4",
   "metadata": {},
   "outputs": [],
   "source": [
    "from sklearn.preprocessing import StandardScaler  \n",
    "#doing transformation in training set\n",
    "b=StandardScaler()\n",
    "b.fit(X_prop)\n",
    "#To avoid data snooping\n",
    "transformed_Xprop = b.transform(X_prop)\n",
    "transformed_Xcal = b.transform(X_cal)\n",
    "transformed_Xtest = transformed_xtest1\n",
    "\n"
   ]
  },
  {
   "cell_type": "markdown",
   "id": "2d0c37bb",
   "metadata": {},
   "source": [
    "11 c)Finiding yhat and the Non-Confirmity Scores"
   ]
  },
  {
   "cell_type": "code",
   "execution_count": 69,
   "id": "3f2b5a63",
   "metadata": {},
   "outputs": [
    {
     "name": "stdout",
     "output_type": "stream",
     "text": [
      "Best parameters  alpha : 2\n"
     ]
    }
   ],
   "source": [
    "from sklearn.model_selection import cross_val_score  #importing cross validation\n",
    "best_score3 = 0\n",
    "for alphas in [.002,.02,.2,2,20]:\n",
    "        a3 = Lasso(alphas).fit(transformed_Xprop,y_prop)\n",
    "        scores = cross_val_score(a3,transformed_Xprop,y_prop, cv=5)    \n",
    "        score = np.mean(scores)\n",
    "        if score > best_score3:\n",
    "            best_score3 = score\n",
    "            best_alpha3 = alphas\n",
    "print(\"Best parameters  alpha :\",  best_alpha3)\n",
    "\n",
    "\n",
    "#making prediction(yhat)\n",
    "a = Lasso(best_alpha3).fit(transformed_Xprop,y_prop)\n",
    "yhat = a.predict(transformed_Xcal)\n",
    "non_confirmity = abs( y_cal - yhat)  #nonconfirmity scores\n",
    "\n"
   ]
  },
  {
   "cell_type": "code",
   "execution_count": 72,
   "id": "d7844858",
   "metadata": {},
   "outputs": [
    {
     "name": "stdout",
     "output_type": "stream",
     "text": [
      "k for 5% significane level : 95\n",
      "k for 20% significane level : 80\n"
     ]
    }
   ],
   "source": [
    "#computing k  for significance level 5% and 20%\n",
    "import math\n",
    "def k(epsilon,m):\n",
    "    return (math.ceil((1-epsilon)*(m+1)))\n",
    "l = len(transformed_Xcal)\n",
    "k5=k(5/100,l)\n",
    "k2=k(20/100,l)\n",
    "print(\"k for 5% significane level :\",k5)\n",
    "print(\"k for 20% significane level :\",k2)"
   ]
  },
  {
   "cell_type": "code",
   "execution_count": 73,
   "id": "6be5e741",
   "metadata": {},
   "outputs": [
    {
     "name": "stdout",
     "output_type": "stream",
     "text": [
      "c for 5% significane level : 102.4647196301488\n",
      "c for 20% significane level : 72.8308458728351\n"
     ]
    }
   ],
   "source": [
    "#computing c  for significance level 5% and 20%\n",
    "def c(k,a):\n",
    "    return a[k-1]\n",
    "a = np.sort(non_confirmity)\n",
    "print(\"c for 5% significane level :\",c(k5,a))\n",
    "print(\"c for 20% significane level :\",c(k2,a))"
   ]
  },
  {
   "cell_type": "code",
   "execution_count": null,
   "id": "7fb5a475",
   "metadata": {},
   "outputs": [],
   "source": []
  },
  {
   "cell_type": "code",
   "execution_count": null,
   "id": "d76c9497",
   "metadata": {},
   "outputs": [],
   "source": []
  }
 ],
 "metadata": {
  "kernelspec": {
   "display_name": "Python 3 (ipykernel)",
   "language": "python",
   "name": "python3"
  },
  "language_info": {
   "codemirror_mode": {
    "name": "ipython",
    "version": 3
   },
   "file_extension": ".py",
   "mimetype": "text/x-python",
   "name": "python",
   "nbconvert_exporter": "python",
   "pygments_lexer": "ipython3",
   "version": "3.9.7"
  }
 },
 "nbformat": 4,
 "nbformat_minor": 5
}
